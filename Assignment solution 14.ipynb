{
 "cells": [
  {
   "cell_type": "code",
   "execution_count": null,
   "metadata": {},
   "outputs": [],
   "source": [
    "#Q1.generator to produce multiples of 7 using yield function\n",
    "class geneartor:\n",
    "    def __init__(self,n):\n",
    "        self.num = n\n",
    "    def gener(self):\n",
    "        for i in range(self.num):\n",
    "            if (i%7) == 0:\n",
    "                yield i\n",
    "            else:\n",
    "                pass\n",
    "g1=geneartor(100)\n",
    "for i in g1.gener():\n",
    "    print(i)"
   ]
  },
  {
   "cell_type": "code",
   "execution_count": null,
   "metadata": {},
   "outputs": [],
   "source": [
    "#Q2.Write a program to compute the frequency of the words from the input. The output should output \n",
    "#after sorting the key alphanumerically. "
   ]
  },
  {
   "cell_type": "code",
   "execution_count": 83,
   "metadata": {},
   "outputs": [],
   "source": [
    "def frequency_words(state):\n",
    "    all_words = list(set(state.split()))\n",
    "    word_count ={}\n",
    "    for i in ((all_words)):\n",
    "        word_count[i]=state.count(i)\n",
    "    l= list(word_count.keys())\n",
    "    l.sort()\n",
    "    for i in l:\n",
    "        print(f\"{i}:{word_count[i]}\")"
   ]
  },
  {
   "cell_type": "code",
   "execution_count": 62,
   "metadata": {},
   "outputs": [],
   "source": [
    "#Q3Define a class Person and its two child classes: Male and Female. \n",
    "#All classes have a method \"getGender\" which can print \"Male\" for Male class and \"Female\" for Female class."
   ]
  },
  {
   "cell_type": "code",
   "execution_count": 5,
   "metadata": {},
   "outputs": [],
   "source": [
    "class Person:\n",
    "    def getGender(self):\n",
    "        print(\"its a method in Person class\")\n",
    "        \n",
    "class Male(Person):\n",
    "    def getGender(self):\n",
    "        print(\"its a method in Male class\")\n",
    "class FeMale(Person):\n",
    "    def getGender(self):\n",
    "        print(\"its a method in FeMale class\")        "
   ]
  },
  {
   "cell_type": "code",
   "execution_count": 6,
   "metadata": {},
   "outputs": [],
   "source": [
    "f1=FeMale()"
   ]
  },
  {
   "cell_type": "code",
   "execution_count": 7,
   "metadata": {},
   "outputs": [
    {
     "name": "stdout",
     "output_type": "stream",
     "text": [
      "its a method in FeMale class\n"
     ]
    }
   ],
   "source": [
    "f1.getGender()\n"
   ]
  },
  {
   "cell_type": "code",
   "execution_count": 8,
   "metadata": {},
   "outputs": [],
   "source": [
    "m1=Male()"
   ]
  },
  {
   "cell_type": "code",
   "execution_count": 9,
   "metadata": {},
   "outputs": [
    {
     "name": "stdout",
     "output_type": "stream",
     "text": [
      "its a method in Male class\n"
     ]
    }
   ],
   "source": [
    "m1.getGender()"
   ]
  },
  {
   "cell_type": "code",
   "execution_count": null,
   "metadata": {},
   "outputs": [],
   "source": [
    "#Q4Please write a program to generate all sentences where subject is in [\"I\", \"You\"] and verb is in [\"Play\", \"Love\"] \n",
    "#and the object is in [\"Hockey\",\"Football\"]."
   ]
  },
  {
   "cell_type": "code",
   "execution_count": 3,
   "metadata": {},
   "outputs": [],
   "source": [
    "def form_sente(subj=['I',\"You\"],verb=[\"Play\",\"Love\"],obj=[\"Hockey\",\"Football\"]):\n",
    "    for i in subj:\n",
    "        for j in verb:\n",
    "            for k in obj:\n",
    "                print(i+str(\" \")+j+str(\" \")+k,end=\"\\n\")"
   ]
  },
  {
   "cell_type": "code",
   "execution_count": 4,
   "metadata": {},
   "outputs": [
    {
     "name": "stdout",
     "output_type": "stream",
     "text": [
      "I Play Hockey\n",
      "I Play Football\n",
      "I Love Hockey\n",
      "I Love Football\n",
      "You Play Hockey\n",
      "You Play Football\n",
      "You Love Hockey\n",
      "You Love Football\n"
     ]
    }
   ],
   "source": [
    "form_sente()"
   ]
  },
  {
   "cell_type": "code",
   "execution_count": null,
   "metadata": {},
   "outputs": [],
   "source": [
    "#Q5Please write a program to compress and decompress the string \"hello world!hello world!hello world!hello world!\"."
   ]
  },
  {
   "cell_type": "code",
   "execution_count": 93,
   "metadata": {},
   "outputs": [],
   "source": [
    "class comp_dec():\n",
    "    def __init__(self):\n",
    "        self.new_comstring=''\n",
    "        self.new_decomstring=''\n",
    "    def decompress(self,decom_string):\n",
    "        length = len(decom_string)\n",
    "        for i in range(0,length,2):\n",
    "            y = int(decom_string[i+1])\n",
    "            for j in range(y):\n",
    "                self.new_decomstring+=decom_string[i]\n",
    "        return self.new_decomstring\n",
    "    def compress(self,comp_string):\n",
    "        length = len(comp_string)\n",
    "        i=0\n",
    "        while(i<length):\n",
    "            count=1\n",
    "            j=i+1\n",
    "            while(j<length):\n",
    "                if comp_string[j]==comp_string[i]:\n",
    "                    count+=1\n",
    "                    j+=1\n",
    "                else:\n",
    "                    break\n",
    "            self.new_comstring+=comp_string[i]+str(count)\n",
    "            i+=count\n",
    "        return self.new_comstring"
   ]
  },
  {
   "cell_type": "code",
   "execution_count": null,
   "metadata": {},
   "outputs": [],
   "source": []
  },
  {
   "cell_type": "code",
   "execution_count": null,
   "metadata": {},
   "outputs": [],
   "source": []
  },
  {
   "cell_type": "code",
   "execution_count": null,
   "metadata": {},
   "outputs": [],
   "source": []
  },
  {
   "cell_type": "code",
   "execution_count": 97,
   "metadata": {},
   "outputs": [
    {
     "data": {
      "text/plain": [
       "'hello world!hello world!hello world!hello world!hello world!hello world!hello world!hello world!'"
      ]
     },
     "execution_count": 97,
     "metadata": {},
     "output_type": "execute_result"
    }
   ],
   "source": []
  },
  {
   "cell_type": "code",
   "execution_count": 98,
   "metadata": {},
   "outputs": [],
   "source": [
    "#Q6Please write a binary search function which searches an item in a sorted list. \n",
    "#The function should return the index of element to be searched in the list."
   ]
  },
  {
   "cell_type": "code",
   "execution_count": 40,
   "metadata": {},
   "outputs": [],
   "source": [
    "def binary_search(sort_list,elem):\n",
    "    #Input the sorted list of number and the element to be searched\n",
    "    length = len(sort_list)\n",
    "    if elem>sort_list[-1]:\n",
    "        print(\"item not in the list \")\n",
    "        return False\n",
    "    if(length%2==0):\n",
    "        k=int(length/2)\n",
    "        mid_elem=sort_list[k]\n",
    "    else:\n",
    "        k=(length-1)/2\n",
    "        mid_elem=sort_list[k]\n",
    "    if elem>mid_elem:\n",
    "        for i in range(k,length,1):\n",
    "            if elem ==sort_list[i]:\n",
    "                print(\"the element {} is found at {} position\".format(elem,(i+1)))\n",
    "                break\n",
    "    else:\n",
    "        for i in range(k,-1,-1):\n",
    "            if elem ==sort_list[i]:\n",
    "                print(\"the element {} is found at {} position\".format(elem,(i+1)))\n",
    "                break\n",
    "    "
   ]
  },
  {
   "cell_type": "code",
   "execution_count": 43,
   "metadata": {},
   "outputs": [
    {
     "name": "stdout",
     "output_type": "stream",
     "text": [
      "the element 56 is found at 2 position\n"
     ]
    }
   ],
   "source": [
    "binary_search([34,56,78,89,90,101,112,156],56)"
   ]
  },
  {
   "cell_type": "code",
   "execution_count": 6,
   "metadata": {},
   "outputs": [],
   "source": []
  },
  {
   "cell_type": "code",
   "execution_count": null,
   "metadata": {},
   "outputs": [],
   "source": []
  },
  {
   "cell_type": "code",
   "execution_count": 12,
   "metadata": {},
   "outputs": [
    {
     "ename": "TypeError",
     "evalue": "object of type 'NoneType' has no len()",
     "output_type": "error",
     "traceback": [
      "\u001b[1;31m---------------------------------------------------------------------------\u001b[0m",
      "\u001b[1;31mTypeError\u001b[0m                                 Traceback (most recent call last)",
      "\u001b[1;32m<ipython-input-12-1a2e6ec5f1e3>\u001b[0m in \u001b[0;36m<module>\u001b[1;34m\u001b[0m\n\u001b[1;32m----> 1\u001b[1;33m \u001b[0mlen\u001b[0m\u001b[1;33m(\u001b[0m\u001b[0ma\u001b[0m\u001b[1;33m)\u001b[0m\u001b[1;33m\u001b[0m\u001b[1;33m\u001b[0m\u001b[0m\n\u001b[0m",
      "\u001b[1;31mTypeError\u001b[0m: object of type 'NoneType' has no len()"
     ]
    }
   ],
   "source": [
    "len(a)"
   ]
  },
  {
   "cell_type": "code",
   "execution_count": 11,
   "metadata": {},
   "outputs": [],
   "source": []
  },
  {
   "cell_type": "code",
   "execution_count": null,
   "metadata": {},
   "outputs": [],
   "source": []
  }
 ],
 "metadata": {
  "kernelspec": {
   "display_name": "Python 3",
   "language": "python",
   "name": "python3"
  },
  "language_info": {
   "codemirror_mode": {
    "name": "ipython",
    "version": 3
   },
   "file_extension": ".py",
   "mimetype": "text/x-python",
   "name": "python",
   "nbconvert_exporter": "python",
   "pygments_lexer": "ipython3",
   "version": "3.8.8"
  }
 },
 "nbformat": 4,
 "nbformat_minor": 2
}
