{
 "cells": [
  {
   "cell_type": "code",
   "execution_count": 1,
   "metadata": {},
   "outputs": [
    {
     "name": "stdout",
     "output_type": "stream",
     "text": [
      "Object `LCM` not found.\n",
      "Object `HCF` not found.\n",
      "Object `Hexadecimal` not found.\n",
      "Object `character` not found.\n",
      "Object `operations` not found.\n"
     ]
    }
   ],
   "source": [
    "1.\tWrite a Python Program to Find LCM?\n",
    "\n"
   ]
  },
  {
   "cell_type": "code",
   "execution_count": 1,
   "metadata": {},
   "outputs": [],
   "source": [
    "def ques1(a):\n",
    "    \"\"\"returns the LCM of list of elements passed[]\"\"\"\n",
    "    while 1 in a:  \n",
    "        x=a.index(1)\n",
    "        a.pop(x)  \n",
    "    l=len(a)\n",
    "    lcm=1\n",
    "    mi = min(a)\n",
    "    while(mi>1):\n",
    "        j=mi\n",
    "        while (j>1):\n",
    "            for i in range(l):\n",
    "                if a[i]%j !=0:\n",
    "                    break\n",
    "            else:\n",
    "                for k in range(l):\n",
    "                    a[k]=a[k]/j \n",
    "                lcm=j*lcm\n",
    "                while 1 in a:\n",
    "                    x=a.index(1)\n",
    "                    a.pop(x)\n",
    "                mi = min(a)\n",
    "            j=j-1\n",
    "            if len(a)==1:\n",
    "                break\n",
    "        mi-=1\n",
    "\n",
    "    for m in range(len(a)):\n",
    "        lcm*=a[m]\n",
    "    return lcm       \n",
    "    "
   ]
  },
  {
   "cell_type": "code",
   "execution_count": null,
   "metadata": {},
   "outputs": [],
   "source": [
    "2.\tWrite a Python Program to Find HCF?\n"
   ]
  },
  {
   "cell_type": "code",
   "execution_count": null,
   "metadata": {},
   "outputs": [],
   "source": []
  },
  {
   "cell_type": "code",
   "execution_count": 7,
   "metadata": {},
   "outputs": [],
   "source": [
    "def ques2(n):\n",
    "    \"\"\"calculates the hcf of a numbers passed in a list \"\"\"\n",
    "    hcf = 1\n",
    "    mi = min(n)\n",
    "    i=2\n",
    "    while(i < mi):\n",
    "        for j in range(len(n)):\n",
    "            if n[j]%i!=0:\n",
    "                break\n",
    "        else:\n",
    "            for k in range(len(n)):\n",
    "                n[k]=n[k]/i\n",
    "            hcf = hcf*i\n",
    "            mi = min(n)\n",
    "            i=1\n",
    "        i=i+1\n",
    "    return hcf   \n",
    "        \n",
    "    "
   ]
  },
  {
   "cell_type": "code",
   "execution_count": null,
   "metadata": {},
   "outputs": [],
   "source": [
    "3.\tWrite a Python Program to Convert Decimal to Binary, Octal and Hexadecimal?"
   ]
  },
  {
   "cell_type": "code",
   "execution_count": 53,
   "metadata": {},
   "outputs": [],
   "source": [
    "def conver(num,b):\n",
    "    quo = num\n",
    "    sumn=0\n",
    "    x=1\n",
    "    fac=10\n",
    "    while (quo > 0):\n",
    "        rem = quo%b\n",
    "        sumn += rem*x\n",
    "        quo = int(quo/b)\n",
    "        x=x*fac\n",
    "    return sumn"
   ]
  },
  {
   "cell_type": "code",
   "execution_count": 67,
   "metadata": {},
   "outputs": [],
   "source": [
    "def ques3(num):\n",
    "    \"\"\"To determine the binary , octal and hexadecimal equivalent of a decimal number \"\"\"\n",
    "    # code for binary number \n",
    "    bina = conver(num,2)\n",
    "    print(\"binary equivalent is \",bina)\n",
    "    # code for octal conversion\n",
    "    octa = conver(num,8)\n",
    "    print(\"octa equivalent is \",octa)\n",
    "    #for hexadecimal conversion\n",
    "    print(\"Hexa equivalent is \",hex(num))\n",
    "    "
   ]
  },
  {
   "cell_type": "code",
   "execution_count": 68,
   "metadata": {},
   "outputs": [
    {
     "name": "stdout",
     "output_type": "stream",
     "text": [
      "binary equivalent is  1110110001010\n",
      "octa equivalent is  16612\n",
      "Hexa equivalent is  0x1d8a\n"
     ]
    }
   ],
   "source": [
    "ques3(7562)"
   ]
  },
  {
   "cell_type": "code",
   "execution_count": null,
   "metadata": {},
   "outputs": [],
   "source": [
    "4.\tWrite a Python Program To Find ASCII value of a character?"
   ]
  },
  {
   "cell_type": "code",
   "execution_count": 60,
   "metadata": {},
   "outputs": [],
   "source": [
    "def ques4(num):\n",
    "    \"\"\"Prints the ASCII value of a character\"\"\"\n",
    "    return ord(num)"
   ]
  },
  {
   "cell_type": "code",
   "execution_count": null,
   "metadata": {},
   "outputs": [],
   "source": [
    "5.\tWrite a Python Program to Make a Simple Calculator with 4 basic mathematical operations?"
   ]
  },
  {
   "cell_type": "code",
   "execution_count": 66,
   "metadata": {},
   "outputs": [],
   "source": [
    "def ques5(a,b,c):\n",
    "    if c=='+':\n",
    "        return a+b\n",
    "    elif c=='/':\n",
    "        return a/b\n",
    "    elif c=='*':\n",
    "        return a*b\n",
    "    elif c=='-':\n",
    "        return a-b\n",
    "    else :\n",
    "        print(\"Invalid input\")"
   ]
  },
  {
   "cell_type": "code",
   "execution_count": null,
   "metadata": {},
   "outputs": [],
   "source": []
  },
  {
   "cell_type": "code",
   "execution_count": null,
   "metadata": {},
   "outputs": [],
   "source": []
  }
 ],
 "metadata": {
  "kernelspec": {
   "display_name": "Python 3",
   "language": "python",
   "name": "python3"
  },
  "language_info": {
   "codemirror_mode": {
    "name": "ipython",
    "version": 3
   },
   "file_extension": ".py",
   "mimetype": "text/x-python",
   "name": "python",
   "nbconvert_exporter": "python",
   "pygments_lexer": "ipython3",
   "version": "3.8.8"
  }
 },
 "nbformat": 4,
 "nbformat_minor": 2
}
