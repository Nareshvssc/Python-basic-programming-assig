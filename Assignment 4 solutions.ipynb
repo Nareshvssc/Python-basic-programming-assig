{
 "cells": [
  {
   "cell_type": "code",
   "execution_count": null,
   "metadata": {},
   "outputs": [],
   "source": [
    "1.\tWrite a Python Program to Find the Factorial of a Number?"
   ]
  },
  {
   "cell_type": "code",
   "execution_count": 10,
   "metadata": {},
   "outputs": [],
   "source": [
    "def ques1(n):\n",
    "    \"\"\"returns the factorial of a number \"\"\"\n",
    "    f=1\n",
    "    for i in range(n,1,-1):\n",
    "        f=f*i\n",
    "    return f"
   ]
  },
  {
   "cell_type": "code",
   "execution_count": null,
   "metadata": {},
   "outputs": [],
   "source": [
    "2.\tWrite a Python Program to Display the multiplication Table?"
   ]
  },
  {
   "cell_type": "code",
   "execution_count": 1,
   "metadata": {},
   "outputs": [],
   "source": [
    "def ques2(x):\n",
    "    \"\"\"Prints the multiplication table of a given number\"\"\"\n",
    "    for i in range(1,11,1):\n",
    "        print(x,\"x\",i,\"=\",x*i)\n",
    "        print(\"\\r\")\n",
    "    "
   ]
  },
  {
   "cell_type": "code",
   "execution_count": null,
   "metadata": {},
   "outputs": [],
   "source": [
    "3.\tWrite a Python Program to Print the Fibonacci sequence?"
   ]
  },
  {
   "cell_type": "code",
   "execution_count": 29,
   "metadata": {},
   "outputs": [],
   "source": [
    "def ques3(n):\n",
    "    \"\"\"print fibonacci series till no. n\"\"\"\n",
    "    l=[1,2]\n",
    "    if n==1:\n",
    "        print('Fibonacci series is 1')\n",
    "    elif n==2:\n",
    "        print('Fibonacci series is ',l[0],l[1])\n",
    "    else :\n",
    "        print('Fibonacci series is',l[0],l[1],end=' ')\n",
    "        first_term = l[0]\n",
    "        second_term = l[1]\n",
    "        for i in range(n-len(l)):\n",
    "            third_term =first_term+second_term\n",
    "            first_term =second_term\n",
    "            second_term = third_term\n",
    "            print(third_term,end=' ')\n",
    "        "
   ]
  },
  {
   "cell_type": "code",
   "execution_count": null,
   "metadata": {},
   "outputs": [],
   "source": [
    "4.\tWrite a Python Program to Check Armstrong Number?"
   ]
  },
  {
   "cell_type": "code",
   "execution_count": 17,
   "metadata": {},
   "outputs": [],
   "source": [
    "def ques4(num):\n",
    "    \"\"\"Check whether the given number is armstrong number or not\"\"\"\n",
    "    l=[]\n",
    "    num_c = num\n",
    "    while(num > 0):\n",
    "        rem = num%10\n",
    "        l.append(rem)\n",
    "        num = int(num/10)\n",
    "    sum_num = 0\n",
    "    for i in range(len(l)):\n",
    "        sum_num+= l[i]**3\n",
    "    else:\n",
    "        if sum_num == num_c:\n",
    "            return \"its an armstrong number\"\n",
    "        else :\n",
    "            return \"Not an armstrong number\"\n",
    "        "
   ]
  },
  {
   "cell_type": "code",
   "execution_count": null,
   "metadata": {},
   "outputs": [],
   "source": [
    "5.\tWrite a Python Program to Find Armstrong Number in an Interval?"
   ]
  },
  {
   "cell_type": "code",
   "execution_count": 15,
   "metadata": {},
   "outputs": [],
   "source": [
    "def ques5(a,b):\n",
    "    \"\"\"to determine an armstrong number in the interval a,b if its exist\"\"\"\n",
    "    for i in range(a,b+1,1):\n",
    "        s=ques4(i)\n",
    "        if s=='its an armstrong number':\n",
    "            print(i,end='\\n')\n",
    "        else:\n",
    "            pass\n",
    "    "
   ]
  },
  {
   "cell_type": "code",
   "execution_count": null,
   "metadata": {},
   "outputs": [],
   "source": [
    "6.\tWrite a Python Program to Find the Sum of Natural Numbers?"
   ]
  },
  {
   "cell_type": "code",
   "execution_count": 17,
   "metadata": {},
   "outputs": [],
   "source": [
    "def ques6(n):\n",
    "    \"\"\"Determine the sum of the n natural number \"\"\"\n",
    "    sum_nat=0\n",
    "    for i in range(1,n+1):\n",
    "        sum_nat+=i\n",
    "    return sum_nat"
   ]
  },
  {
   "cell_type": "code",
   "execution_count": null,
   "metadata": {},
   "outputs": [],
   "source": []
  },
  {
   "cell_type": "code",
   "execution_count": null,
   "metadata": {},
   "outputs": [],
   "source": []
  },
  {
   "cell_type": "code",
   "execution_count": null,
   "metadata": {},
   "outputs": [],
   "source": []
  }
 ],
 "metadata": {
  "kernelspec": {
   "display_name": "Python 3",
   "language": "python",
   "name": "python3"
  },
  "language_info": {
   "codemirror_mode": {
    "name": "ipython",
    "version": 3
   },
   "file_extension": ".py",
   "mimetype": "text/x-python",
   "name": "python",
   "nbconvert_exporter": "python",
   "pygments_lexer": "ipython3",
   "version": "3.8.8"
  }
 },
 "nbformat": 4,
 "nbformat_minor": 2
}
