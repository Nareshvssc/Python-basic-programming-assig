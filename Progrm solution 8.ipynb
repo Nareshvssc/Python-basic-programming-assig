{
 "cells": [
  {
   "cell_type": "code",
   "execution_count": 1,
   "metadata": {},
   "outputs": [
    {
     "name": "stdout",
     "output_type": "stream",
     "text": [
      "Object `Matrices` not found.\n",
      "Object `Matrices` not found.\n",
      "Object `Matrix` not found.\n",
      "Object `Order` not found.\n",
      "Object `String` not found.\n"
     ]
    }
   ],
   "source": [
    "1.\tWrite a Python Program to Add Two Matrices?\n",
    "2.\tWrite a Python Program to Multiply Two Matrices?\n",
    "3.\tWrite a Python Program to Transpose a Matrix?\n",
    "4.\tWrite a Python Program to Sort Words in Alphabetic Order?\n",
    "5.\tWrite a Python Program to Remove Punctuation From a String?"
   ]
  },
  {
   "cell_type": "code",
   "execution_count": null,
   "metadata": {},
   "outputs": [],
   "source": [
    "5.\tWrite a Python Program to Remove Punctuation From a String"
   ]
  },
  {
   "cell_type": "code",
   "execution_count": 66,
   "metadata": {},
   "outputs": [],
   "source": [
    "class improp_size(Exception):\n",
    "    def __init__(self,*arg):\n",
    "        print(\"The matrices cannot be multiplied\")"
   ]
  },
  {
   "cell_type": "code",
   "execution_count": 241,
   "metadata": {},
   "outputs": [],
   "source": [
    "import numpy as np\n",
    "class PBA_sol_8:\n",
    "    def __init__(self,mat_a,mat_b):\n",
    "        self.mat_a = mat_a\n",
    "        self.mat_b = mat_b\n",
    "        \n",
    "    def add_mat(self):\n",
    "        self.add = self.mat_a + self.mat_b\n",
    "    \n",
    "    def transpose(self,mat_c):\n",
    "        self.mat_c_T = mat_c.transpose()\n",
    "        \n",
    "    def muli_matrix(self):\n",
    "        m1 = len(self.mat_a) #2\n",
    "        m2 = len(self.mat_b) #2\n",
    "        n1 = len(self.mat_a[0][:]) #2\n",
    "        n2 = len(self.mat_b[0][:]) #3\n",
    "        self.mat_mul =np.array([[0]*m1]*n2) \n",
    "        \n",
    "        try:\n",
    "            if n1!=m2:\n",
    "                raise improp_size(\"The matrices a is %s by %s and matrices b is %s by %s \" % (m1,n1,m2,n2))\n",
    "            else:\n",
    "                for k in range(m1):\n",
    "                    for j in range(n2):\n",
    "                        for i in range(n1):\n",
    "                            self.mat_mul[k][j] += self.mat_a[k][i]+self.mat_b[i][j]     \n",
    "                print(\"the multiplcation is \" , self.mat_mul)\n",
    "        except Exception as err:\n",
    "            print(\"Cannot be mulitplied as \",err)\n",
    "            \n",
    "    def remove_punct(self,stn):\n",
    "        \"\"\"To remove punctuation from string\"\"\"\n",
    "        self.stn_1=stn.replace(\"'\",\"\")\n",
    "        print(\"The modified string is \",self.stn_1)\n",
    "        \n",
    "    def sort_string(self,stn):\n",
    "        \"\"\"to arrange the words of a string in alphabetical order\"\"\"\n",
    "        self.old = stn.split()\n",
    "        self.old_1 = self.old.sort()\n",
    "        print(self.old)\n",
    "        self.new=\"\"\n",
    "        for i in self.old_1:\n",
    "            self.new+= i+str(\" \")\n",
    "        print(\"The sorted string is = \",self.new)"
   ]
  },
  {
   "cell_type": "code",
   "execution_count": 242,
   "metadata": {},
   "outputs": [],
   "source": []
  },
  {
   "cell_type": "code",
   "execution_count": 243,
   "metadata": {},
   "outputs": [],
   "source": []
  },
  {
   "cell_type": "code",
   "execution_count": null,
   "metadata": {},
   "outputs": [],
   "source": []
  },
  {
   "cell_type": "code",
   "execution_count": null,
   "metadata": {},
   "outputs": [],
   "source": []
  },
  {
   "cell_type": "code",
   "execution_count": null,
   "metadata": {},
   "outputs": [],
   "source": []
  },
  {
   "cell_type": "code",
   "execution_count": null,
   "metadata": {},
   "outputs": [],
   "source": []
  },
  {
   "cell_type": "code",
   "execution_count": null,
   "metadata": {},
   "outputs": [],
   "source": []
  },
  {
   "cell_type": "code",
   "execution_count": null,
   "metadata": {},
   "outputs": [],
   "source": []
  },
  {
   "cell_type": "code",
   "execution_count": null,
   "metadata": {},
   "outputs": [],
   "source": []
  },
  {
   "cell_type": "code",
   "execution_count": null,
   "metadata": {},
   "outputs": [],
   "source": []
  },
  {
   "cell_type": "code",
   "execution_count": null,
   "metadata": {},
   "outputs": [],
   "source": []
  },
  {
   "cell_type": "code",
   "execution_count": 203,
   "metadata": {},
   "outputs": [],
   "source": []
  },
  {
   "cell_type": "code",
   "execution_count": 204,
   "metadata": {},
   "outputs": [],
   "source": []
  },
  {
   "cell_type": "code",
   "execution_count": 205,
   "metadata": {},
   "outputs": [
    {
     "data": {
      "text/plain": [
       "True"
      ]
     },
     "execution_count": 205,
     "metadata": {},
     "output_type": "execute_result"
    }
   ],
   "source": []
  },
  {
   "cell_type": "code",
   "execution_count": 206,
   "metadata": {},
   "outputs": [],
   "source": []
  },
  {
   "cell_type": "code",
   "execution_count": null,
   "metadata": {},
   "outputs": [],
   "source": []
  },
  {
   "cell_type": "code",
   "execution_count": 213,
   "metadata": {},
   "outputs": [],
   "source": []
  },
  {
   "cell_type": "code",
   "execution_count": null,
   "metadata": {},
   "outputs": [],
   "source": []
  },
  {
   "cell_type": "code",
   "execution_count": null,
   "metadata": {},
   "outputs": [],
   "source": []
  },
  {
   "cell_type": "code",
   "execution_count": null,
   "metadata": {},
   "outputs": [],
   "source": []
  }
 ],
 "metadata": {
  "kernelspec": {
   "display_name": "Python 3",
   "language": "python",
   "name": "python3"
  },
  "language_info": {
   "codemirror_mode": {
    "name": "ipython",
    "version": 3
   },
   "file_extension": ".py",
   "mimetype": "text/x-python",
   "name": "python",
   "nbconvert_exporter": "python",
   "pygments_lexer": "ipython3",
   "version": "3.8.8"
  }
 },
 "nbformat": 4,
 "nbformat_minor": 2
}
