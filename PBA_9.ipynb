{
 "cells": [
  {
   "cell_type": "code",
   "execution_count": 1,
   "metadata": {},
   "outputs": [
    {
     "name": "stdout",
     "output_type": "stream",
     "text": [
      "Write a Python Program to Add Two Matrices?\n",
      "\n",
      "Write a Python Program to Multiply Two Matrices?\n",
      "\n",
      "Write a Python Program to Transpose a Matrix?\n",
      "\n",
      "Write a Python Program to Sort Words in Alphabetic Order?\n",
      "\n",
      "Write a Python Program to Remove Punctuation From a String?\n"
     ]
    }
   ],
   "source": [
    "import docx2txt\n",
    "mytext = docx2txt.process(\"Programming_Assingment8.docx\")\n",
    "print(mytext)"
   ]
  },
  {
   "cell_type": "code",
   "execution_count": 24,
   "metadata": {},
   "outputs": [],
   "source": [
    "class PBA_9:\n",
    "    def __init__(self):\n",
    "        pass\n",
    "    def dig_sep(self,num):\n",
    "        dig =[]\n",
    "        while (num>0):\n",
    "            r = num%10\n",
    "            dig.append(r)\n",
    "            num = int(num/10)\n",
    "        return dig\n",
    "    def disarium_check(self,num):\n",
    "        dig = self.dig_sep(num)\n",
    "        l = len(dig)\n",
    "        sum_of_dig  =0\n",
    "        i=0\n",
    "        while(l>0):\n",
    "            sum_of_dig += dig[i]**l\n",
    "            l-=1\n",
    "            i+=1\n",
    "        if sum_of_dig == num:\n",
    "            return True\n",
    "            #print(\"the  number %d is disarium\" %(self.num)) \n",
    "        else:\n",
    "            return False\n",
    "            #print(f\"The number {self.num} is not disarium\")\n",
    "    \n",
    "    def print_disarium(self,start,end):        \n",
    "        disar_no =[]\n",
    "        for i in range(start,end,1):\n",
    "            f = self.disarium_check(i)\n",
    "            if f== True:\n",
    "                disar_no.append(i)\n",
    "            else:\n",
    "                pass\n",
    "        print(f\"The disarium no. between {start} and {end} is \", disar_no)     \n",
    "        \n",
    "    def harshad_num_check(self,num):\n",
    "        sum_of_dig = sum(self.dig_sep(num))\n",
    "                    \n",
    "        if num%sum_of_dig ==0:\n",
    "            return True\n",
    "            #print(f\"The number {num} is a harshad number\")\n",
    "            \n",
    "        else:\n",
    "            return False\n",
    "            #print(\"Not a harshad number\")\n",
    "            \n",
    "    def pronic_num_check(self,num):\n",
    "        import numpy as np\n",
    "        k=np.sqrt(num)\n",
    "        if (k*(k+1))== num:\n",
    "            return True\n",
    "            #print(f \"{num} is a pronic number\")\n",
    "        else:\n",
    "            return False\n",
    "            #print(f\"the number {num} is not a pronic number\")\n",
    "            \n",
    "    def print_pronic_num(self,start,end):\n",
    "        pronic_no =[]\n",
    "        for i in range(start,end,1):\n",
    "            f = self.pronic_num_check(i)\n",
    "            if f == True:\n",
    "                pronic_no.append(i)\n",
    "            else:\n",
    "                pass\n",
    "        print(f\"The pronic no. between {start} and {end} is \", pronic_no) \n",
    "        \n",
    "    def print_harshad_number(self,start,end):\n",
    "        harshad_no =[]\n",
    "        for i in range(start,end,1):\n",
    "            f = self.harshad_num_check(i)\n",
    "            if f == True:\n",
    "                harshad_no.append(i)\n",
    "            else:\n",
    "                pass\n",
    "        print(f\"The harshad_no. between {start} and {end} is \", harshad_no) \n",
    "   \n",
    "    def happy_num_check(self,num):\n",
    "        dig = self.dig_sep(num)\n",
    "        result=0\n",
    "        for i in dig:\n",
    "            result+=i**2\n",
    "        if result!=1 and result!=4:\n",
    "            result =self.happy_num_check(result)\n",
    "\n",
    "        if result==1:\n",
    "            return True\n",
    "        elif result == 4:\n",
    "            return False\n",
    "        \n",
    "    def print_happy_num(self,start,end):\n",
    "        happy_no =[]\n",
    "        for i in range(start,end,1):\n",
    "            f = self.happy_num_check(i)\n",
    "            if f == True:\n",
    "                happy_no.append(i)\n",
    "            else:\n",
    "                pass\n",
    "        print(f\"The happy_no. between {start} and {end} is \", happy_no) "
   ]
  },
  {
   "cell_type": "code",
   "execution_count": 22,
   "metadata": {},
   "outputs": [],
   "source": [
    "s1=PBA_9()"
   ]
  },
  {
   "cell_type": "code",
   "execution_count": 63,
   "metadata": {},
   "outputs": [
    {
     "data": {
      "text/plain": [
       "True"
      ]
     },
     "execution_count": 63,
     "metadata": {},
     "output_type": "execute_result"
    }
   ],
   "source": [
    "s1.disarium_check(135)"
   ]
  },
  {
   "cell_type": "code",
   "execution_count": 64,
   "metadata": {},
   "outputs": [
    {
     "name": "stdout",
     "output_type": "stream",
     "text": [
      "The disarium no. between 0 and 101 is  [0, 1, 2, 3, 4, 5, 6, 7, 8, 9, 89]\n"
     ]
    }
   ],
   "source": [
    "s1.print_disarium(0,101)"
   ]
  },
  {
   "cell_type": "code",
   "execution_count": 67,
   "metadata": {},
   "outputs": [
    {
     "name": "stdout",
     "output_type": "stream",
     "text": [
      "Not a harshad number\n"
     ]
    }
   ],
   "source": [
    "s1.harshad_num_check(145)"
   ]
  },
  {
   "cell_type": "code",
   "execution_count": 77,
   "metadata": {},
   "outputs": [
    {
     "name": "stdout",
     "output_type": "stream",
     "text": [
      "The pronic no. between 10 and 100 is  []\n"
     ]
    }
   ],
   "source": [
    "s1.print_pronic_num(10,100)"
   ]
  },
  {
   "cell_type": "code",
   "execution_count": 86,
   "metadata": {},
   "outputs": [
    {
     "name": "stdout",
     "output_type": "stream",
     "text": [
      "The harshad_no. between 2 and 1000 is  [2, 3, 4, 5, 6, 7, 8, 9, 10, 12, 18, 20, 21, 24, 27, 30, 36, 40, 42, 45, 48, 50, 54, 60, 63, 70, 72, 80, 81, 84, 90, 100, 102, 108, 110, 111, 112, 114, 117, 120, 126, 132, 133, 135, 140, 144, 150, 152, 153, 156, 162, 171, 180, 190, 192, 195, 198, 200, 201, 204, 207, 209, 210, 216, 220, 222, 224, 225, 228, 230, 234, 240, 243, 247, 252, 261, 264, 266, 270, 280, 285, 288, 300, 306, 308, 312, 315, 320, 322, 324, 330, 333, 336, 342, 351, 360, 364, 370, 372, 375, 378, 392, 396, 399, 400, 402, 405, 407, 408, 410, 414, 420, 423, 432, 440, 441, 444, 448, 450, 460, 465, 468, 476, 480, 481, 486, 500, 504, 506, 510, 511, 512, 513, 516, 518, 522, 531, 540, 550, 552, 555, 558, 576, 588, 592, 594, 600, 603, 605, 612, 621, 624, 629, 630, 640, 644, 645, 648, 660, 666, 684, 690, 700, 702, 704, 711, 715, 720, 730, 732, 735, 736, 738, 756, 770, 774, 777, 780, 782, 792, 800, 801, 803, 804, 810, 820, 825, 828, 832, 840, 846, 864, 870, 874, 880, 882, 888, 900, 902, 910, 912, 915, 918, 935, 936, 954, 960, 966, 972, 990, 999]\n"
     ]
    }
   ],
   "source": [
    "s1.print_harshad_number(2,1000)"
   ]
  },
  {
   "cell_type": "code",
   "execution_count": 20,
   "metadata": {},
   "outputs": [
    {
     "data": {
      "text/plain": [
       "False"
      ]
     },
     "execution_count": 20,
     "metadata": {},
     "output_type": "execute_result"
    }
   ],
   "source": [
    "s1.happy_num_check(20)\n"
   ]
  },
  {
   "cell_type": "code",
   "execution_count": 27,
   "metadata": {},
   "outputs": [
    {
     "name": "stdout",
     "output_type": "stream",
     "text": [
      "The happy_no. between 5 and 100 is  [7, 10, 13, 19, 23, 28, 31, 32, 44, 49, 68, 70, 79, 82, 86, 91, 94, 97]\n"
     ]
    }
   ],
   "source": [
    "s1.print_happy_num(5,100)"
   ]
  },
  {
   "cell_type": "code",
   "execution_count": null,
   "metadata": {},
   "outputs": [],
   "source": []
  }
 ],
 "metadata": {
  "kernelspec": {
   "display_name": "Python 3",
   "language": "python",
   "name": "python3"
  },
  "language_info": {
   "codemirror_mode": {
    "name": "ipython",
    "version": 3
   },
   "file_extension": ".py",
   "mimetype": "text/x-python",
   "name": "python",
   "nbconvert_exporter": "python",
   "pygments_lexer": "ipython3",
   "version": "3.8.8"
  }
 },
 "nbformat": 4,
 "nbformat_minor": 2
}
