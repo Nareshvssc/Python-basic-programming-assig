{
 "cells": [
  {
   "cell_type": "code",
   "execution_count": 1,
   "id": "ee1604a9",
   "metadata": {},
   "outputs": [],
   "source": [
    "def logg(name,err):\n",
    "    \"\"\"logging function to log the filename\"\"\"\n",
    "    import logging\n",
    "    logging.basicConfig(filename=name,level=logging.DEBUG,format='%(asctime)s%(message)s')\n",
    "    if err=='NIL':\n",
    "        logging.info( \"error \"+str(err)+ \" success\")\n",
    "    else:\n",
    "        logging.error(\"The error occured is \"+str(err))"
   ]
  },
  {
   "cell_type": "code",
   "execution_count": 1,
   "id": "d76ffd52",
   "metadata": {},
   "outputs": [
    {
     "name": "stdout",
     "output_type": "stream",
     "text": [
      "Write a Python Program to find sum of array?\n",
      "\n",
      "Write a Python Program to find largest element in an array?\n",
      "\n",
      "Write a Python Program for array rotation?\n",
      "\n",
      "Write a Python Program to Split the array and add the first part to the end?\n",
      "\n",
      "Write a Python Program to check if given array is Monotonic?\n"
     ]
    }
   ],
   "source": [
    "import docx2txt\n",
    "mytext = docx2txt.process(\"Programming_Assingment7.docx\")\n",
    "print(mytext)"
   ]
  },
  {
   "cell_type": "code",
   "execution_count": null,
   "id": "7666bf2d",
   "metadata": {},
   "outputs": [],
   "source": []
  },
  {
   "cell_type": "code",
   "execution_count": null,
   "id": "612901e8",
   "metadata": {},
   "outputs": [],
   "source": [
    "1.\tWrite a Python Program to find sum of array"
   ]
  },
  {
   "cell_type": "code",
   "execution_count": 2,
   "id": "e1a96682",
   "metadata": {},
   "outputs": [],
   "source": [
    " def ques1(l):\n",
    "    \"\"\"retruns the sum of elements of array(1D array) passed\"\"\"\n",
    "    try:\n",
    "        import numpy as np\n",
    "        arr = np.array(l,'i')\n",
    "        logg('ques.log','NIL')\n",
    "    except Exception as err:\n",
    "        logg('ques.log',err)\n",
    "    else:    \n",
    "        return sum(arr)"
   ]
  },
  {
   "cell_type": "code",
   "execution_count": null,
   "id": "d9a52046",
   "metadata": {},
   "outputs": [],
   "source": [
    "\n",
    "3.\tWrite a Python Program for array rotation?\n",
    "4.\tWrite a Python Program to Split the array and add the first part to the end?"
   ]
  },
  {
   "cell_type": "code",
   "execution_count": null,
   "id": "377149a0",
   "metadata": {},
   "outputs": [],
   "source": [
    "#Q3 and Q4 defined by this function\n",
    "class arr_function:\n",
    "    def __init__(self,arr_in):\n",
    "        self.arr = arr_in\n",
    "    def rotate(self,loc):\n",
    "        while loc >0:\n",
    "            temp = self.arr[loc-1]\n",
    "            for i in range(loc-1,len(self.arr)-1):\n",
    "                self.arr[i] = self.arr[i+1]\n",
    "            self.arr[i+1] = temp\n",
    "            loc-=1\n",
    "        print(\"The rotated array is\",self.arr)\n",
    "    def first_to_end(self,loc):\n",
    "        y=self.arr[0:loc]\n",
    "        n=loc\n",
    "        while(n<len(self.arr)):\n",
    "            self.arr[n-loc]=self.arr[n]\n",
    "            n=n+1\n",
    "        l=len(self.arr)\n",
    "        print(y[:])\n",
    "        print(l,loc)\n",
    "        for i in range(l-loc,l):\n",
    "            self.arr[i]=y[i-l+loc]\n",
    "        print(\"The array after moving first part to end is \",self.arr)"
   ]
  },
  {
   "cell_type": "code",
   "execution_count": null,
   "id": "75a79f2c",
   "metadata": {},
   "outputs": [],
   "source": [
    "2.\tWrite a Python Program to find largest element in an array?"
   ]
  },
  {
   "cell_type": "code",
   "execution_count": 2,
   "id": "dcbd6367",
   "metadata": {},
   "outputs": [],
   "source": [
    "def ques2(l):\n",
    "    \"\"\"returns the maximum of an 1D array\"\"\"\n",
    "    try:\n",
    "        import numpy as np\n",
    "        arr = np.array(l,'i')\n",
    "        logg('ques2.log','NIL')\n",
    "    except Exception as err:\n",
    "        logg('ques2.log',err)  \n",
    "    else:\n",
    "        return max(arr)"
   ]
  },
  {
   "cell_type": "code",
   "execution_count": null,
   "id": "ed0f6803",
   "metadata": {},
   "outputs": [],
   "source": [
    "5.\tWrite a Python Program to check if given array is Monotonic?"
   ]
  },
  {
   "cell_type": "code",
   "execution_count": 8,
   "id": "a569e874",
   "metadata": {},
   "outputs": [],
   "source": [
    "def monlothic(arr):\n",
    "    f=1\n",
    "    if arr[1]>arr[0]:\n",
    "        for i in range(1,len(arr)-1):\n",
    "            if arr[i+1]<arr[i]:\n",
    "                f=0\n",
    "                break\n",
    "        else:\n",
    "            print(\"array is monolothic\")\n",
    "    else:\n",
    "        for i in range(1,len(arr)-1):\n",
    "            if arr[i+1]>arr[i]:\n",
    "                f=0\n",
    "                break\n",
    "        else:\n",
    "            print(\"array is monolithic\")\n",
    "    if f==0:\n",
    "        print(\"array is not monolithic!\")"
   ]
  },
  {
   "cell_type": "code",
   "execution_count": null,
   "id": "563a0330",
   "metadata": {},
   "outputs": [],
   "source": []
  },
  {
   "cell_type": "code",
   "execution_count": null,
   "id": "f6e7fb37",
   "metadata": {},
   "outputs": [],
   "source": []
  }
 ],
 "metadata": {
  "kernelspec": {
   "display_name": "Python 3",
   "language": "python",
   "name": "python3"
  },
  "language_info": {
   "codemirror_mode": {
    "name": "ipython",
    "version": 3
   },
   "file_extension": ".py",
   "mimetype": "text/x-python",
   "name": "python",
   "nbconvert_exporter": "python",
   "pygments_lexer": "ipython3",
   "version": "3.8.8"
  }
 },
 "nbformat": 4,
 "nbformat_minor": 5
}
