{
 "cells": [
  {
   "cell_type": "code",
   "execution_count": null,
   "metadata": {},
   "outputs": [],
   "source": []
  },
  {
   "cell_type": "code",
   "execution_count": null,
   "metadata": {},
   "outputs": [],
   "source": []
  },
  {
   "cell_type": "code",
   "execution_count": 3,
   "metadata": {},
   "outputs": [],
   "source": [
    "import docx2txt"
   ]
  },
  {
   "cell_type": "code",
   "execution_count": 4,
   "metadata": {},
   "outputs": [
    {
     "name": "stdout",
     "output_type": "stream",
     "text": [
      "Write a Python Program to Display Fibonacci Sequence Using Recursion?\n",
      "\n",
      "Write a Python Program to Find Factorial of Number Using Recursion?\n",
      "\n",
      "Write a Python Program to calculate your Body Mass Index?\n",
      "\n",
      "Write a Python Program to calculate the natural logarithm of any number?\n",
      "\n",
      "Write a Python Program for cube sum of first n natural numbers?\n"
     ]
    }
   ],
   "source": [
    "mytext = docx2txt.process(\"Programming_Assingment6.docx\")\n",
    "print(mytext)"
   ]
  },
  {
   "cell_type": "code",
   "execution_count": null,
   "metadata": {},
   "outputs": [],
   "source": [
    "5.\tWrite a Python Program for cube sum of first n natural numbers?"
   ]
  },
  {
   "cell_type": "code",
   "execution_count": 2,
   "metadata": {},
   "outputs": [],
   "source": [
    "def sumcub(n):\n",
    "    \"\"\"returns the cube of first n natural number\"\"\"\n",
    "    sumn = 0\n",
    "    for i in range(n+1):\n",
    "        sumn+=i**3\n",
    "    return sumn"
   ]
  },
  {
   "cell_type": "code",
   "execution_count": null,
   "metadata": {},
   "outputs": [],
   "source": [
    "4.\tWrite a Python Program to calculate the natural logarithm of any number?"
   ]
  },
  {
   "cell_type": "code",
   "execution_count": 10,
   "metadata": {},
   "outputs": [],
   "source": [
    "def ques4(n):\n",
    "    \"returns the natural logarithm of a number\"\n",
    "    import numpy as np\n",
    "    return np.log10(n)"
   ]
  },
  {
   "cell_type": "code",
   "execution_count": null,
   "metadata": {},
   "outputs": [],
   "source": [
    "3.\tWrite a Python Program to calculate your Body Mass Index?"
   ]
  },
  {
   "cell_type": "code",
   "execution_count": 5,
   "metadata": {},
   "outputs": [],
   "source": [
    "def ques3(weight,height):\n",
    "    \"return the BMI from weight and height enter weight in kg and height in m\"\n",
    "    BMI  = (weight)/(height**2)\n",
    "    return BMI"
   ]
  },
  {
   "cell_type": "code",
   "execution_count": null,
   "metadata": {},
   "outputs": [],
   "source": []
  },
  {
   "cell_type": "code",
   "execution_count": null,
   "metadata": {},
   "outputs": [],
   "source": [
    "2.\tWrite a Python Program to Find Factorial of Number Using Recursion?"
   ]
  },
  {
   "cell_type": "code",
   "execution_count": 17,
   "metadata": {},
   "outputs": [],
   "source": [
    "def ques2(num):\n",
    "    \"return the factorial of a number using recursion\"\n",
    "    try:\n",
    "        if int(num)==1:\n",
    "            return num\n",
    "        elif  num ==0:\n",
    "            return 1\n",
    "    except Exception as err:\n",
    "        print(\"Enter valid input \",err)\n",
    "    else:\n",
    "        return num*ques2(num-1)"
   ]
  },
  {
   "cell_type": "code",
   "execution_count": null,
   "metadata": {},
   "outputs": [],
   "source": [
    "1.\tWrite a Python Program to Display Fibonacci Sequence Using Recursion?"
   ]
  },
  {
   "cell_type": "code",
   "execution_count": 17,
   "metadata": {},
   "outputs": [],
   "source": [
    "def fibonac(f):\n",
    "    \"\"\"Part of fibonaacci function it is called to generate fibonacci series \"\"\"\n",
    "    if f ==1 :\n",
    "        return 1\n",
    "    elif f==0:\n",
    "        return 0\n",
    "    else :\n",
    "        return fibonac(f-1)+fibonac(f-2)"
   ]
  },
  {
   "cell_type": "code",
   "execution_count": 29,
   "metadata": {},
   "outputs": [],
   "source": [
    "def ques1():\n",
    "    \"print the fibonacci series consisting of n terms \"\n",
    "    try:\n",
    "        num=int(input(\"Enter no. of terms need in fibonaaci\"))\n",
    "    except Exception as err:\n",
    "        print(\"Error ! \",err)\n",
    "    else:\n",
    "        for i in range(0,num):\n",
    "            print(fibonac(i),end=' ')"
   ]
  },
  {
   "cell_type": "code",
   "execution_count": 30,
   "metadata": {},
   "outputs": [
    {
     "name": "stdout",
     "output_type": "stream",
     "text": [
      "Enter no. of terms need in fibonaacisdf\n",
      "Error !  invalid literal for int() with base 10: 'sdf'\n"
     ]
    }
   ],
   "source": []
  },
  {
   "cell_type": "code",
   "execution_count": null,
   "metadata": {},
   "outputs": [],
   "source": []
  }
 ],
 "metadata": {
  "kernelspec": {
   "display_name": "Python 3",
   "language": "python",
   "name": "python3"
  },
  "language_info": {
   "codemirror_mode": {
    "name": "ipython",
    "version": 3
   },
   "file_extension": ".py",
   "mimetype": "text/x-python",
   "name": "python",
   "nbconvert_exporter": "python",
   "pygments_lexer": "ipython3",
   "version": "3.8.8"
  }
 },
 "nbformat": 4,
 "nbformat_minor": 2
}
