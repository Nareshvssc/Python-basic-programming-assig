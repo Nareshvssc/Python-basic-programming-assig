{
 "cells": [
  {
   "cell_type": "code",
   "execution_count": 1,
   "id": "21e97887",
   "metadata": {},
   "outputs": [
    {
     "name": "stdout",
     "output_type": "stream",
     "text": [
      "Write a Python program to find sum of elements in list?\n",
      "\n",
      "Write a Python program to  Multiply all numbers in the list?\n",
      "\n",
      "Write a Python program to find smallest number in a list?\n",
      "\n",
      "Write a Python program to find largest number in a list?\n",
      "\n",
      "Write a Python program to find second largest number in a list?\n",
      "\n",
      "Write a Python program to find N largest elements from a list?\n",
      "\n",
      "Write a Python program to print even numbers in a list?\n",
      "\n",
      "Write a Python program to print odd numbers in a List?\n",
      "\n",
      "Write a Python program to Remove empty List from List?\n",
      "\n",
      "Write a Python program to Cloning or Copying a list?\n",
      "\n",
      "Write a Python program to Count occurrences of an element in a list?\n"
     ]
    }
   ],
   "source": [
    "import docx2txt\n",
    "mytext = docx2txt.process(\"Programming_Assingment10.docx\")\n",
    "print(mytext)"
   ]
  },
  {
   "cell_type": "code",
   "execution_count": 125,
   "id": "348d4682",
   "metadata": {},
   "outputs": [],
   "source": [
    "class PBA_10:\n",
    "    def __init__(self,arr):\n",
    "        self.array =arr\n",
    "        self.array.sort()\n",
    "    def sum_of_element(self):\n",
    "        print(sum(self.array))\n",
    "    def multiply_all(self):\n",
    "        value=1\n",
    "        for i in multiply_all():\n",
    "            value*=i\n",
    "        print(\"value= \",value)\n",
    "    def small_element(self):\n",
    "        print(\"minimum no. is = \",min(self.array))\n",
    "    def largest_element(self):\n",
    "        print(\"maximum no. is = \",max(self.array))\n",
    "    def second_largest(self):\n",
    "        print(self.sor_array[-2])\n",
    "    def n_larget_elemt(self,n):\n",
    "        print(self.array[-1:-n-1:-1])\n",
    "    def even_num_list(self):\n",
    "        for i in self.array:\n",
    "            if i%2==0:\n",
    "                print(i,end=\" \")\n",
    "    def odd_num_list(self):        \n",
    "        for i in self.array:\n",
    "            if i%2!=0:\n",
    "                print(i,end=\" \")\n",
    "    def copy_list(self):\n",
    "        b = a.copy()\n",
    "        print(\"the copied list is = \",b)\n",
    "    def elemn_occ_list(self):\n",
    "        set_of_items = set(self.array)\n",
    "        for i in set_of_items:\n",
    "            value = self.array.count(i)\n",
    "            print(f\"{i} occurs {value} times \")\n",
    "    def empty_list(self,arr):\n",
    "        try:\n",
    "            while True:\n",
    "                arr.remove([])\n",
    "        except ValueError:\n",
    "            pass\n",
    "        \n",
    "        return arr"
   ]
  },
  {
   "cell_type": "code",
   "execution_count": 126,
   "id": "1d66faf5",
   "metadata": {},
   "outputs": [],
   "source": [
    "a=[11,2,3,4,5,11,23,12,34,12,34,23,45,67,89,12,45,67]\n",
    "s1=PBA_10(a)"
   ]
  },
  {
   "cell_type": "code",
   "execution_count": 127,
   "id": "0f2c7863",
   "metadata": {},
   "outputs": [
    {
     "data": {
      "text/plain": [
       "[11, 2, 3, 4, 5, 11, 23, 12, 34, 12, 34, 23, 45, 67, 89, 12, 45, 67]"
      ]
     },
     "execution_count": 127,
     "metadata": {},
     "output_type": "execute_result"
    }
   ],
   "source": [
    "s1.empty_list([11,2,3,4,5,11,23,12,34,12,34,23,45,67,89,12,45,67,[],[]])"
   ]
  },
  {
   "cell_type": "code",
   "execution_count": 128,
   "id": "54d7a28c",
   "metadata": {},
   "outputs": [
    {
     "name": "stdout",
     "output_type": "stream",
     "text": [
      "[89, 67, 67, 45]\n"
     ]
    }
   ],
   "source": [
    "s1.n_larget_elemt(4)"
   ]
  },
  {
   "cell_type": "code",
   "execution_count": 8,
   "id": "498adc51",
   "metadata": {},
   "outputs": [
    {
     "data": {
      "text/plain": [
       "[None]"
      ]
     },
     "execution_count": 8,
     "metadata": {},
     "output_type": "execute_result"
    }
   ],
   "source": [
    "s1.sor_array"
   ]
  },
  {
   "cell_type": "code",
   "execution_count": 31,
   "id": "65a13c4a",
   "metadata": {},
   "outputs": [],
   "source": [
    "a.sort()"
   ]
  },
  {
   "cell_type": "code",
   "execution_count": 32,
   "id": "de4b3932",
   "metadata": {},
   "outputs": [
    {
     "data": {
      "text/plain": [
       "[1, 2, 3, 4, 5, 11, 12, 23, 34]"
      ]
     },
     "execution_count": 32,
     "metadata": {},
     "output_type": "execute_result"
    }
   ],
   "source": [
    "a"
   ]
  },
  {
   "cell_type": "code",
   "execution_count": 33,
   "id": "a853548c",
   "metadata": {},
   "outputs": [],
   "source": [
    "b= a.copy()"
   ]
  },
  {
   "cell_type": "code",
   "execution_count": 34,
   "id": "dfa2778c",
   "metadata": {},
   "outputs": [
    {
     "data": {
      "text/plain": [
       "[1, 2, 3, 4, 5, 11, 12, 23, 34]"
      ]
     },
     "execution_count": 34,
     "metadata": {},
     "output_type": "execute_result"
    }
   ],
   "source": [
    "b"
   ]
  },
  {
   "cell_type": "code",
   "execution_count": 40,
   "id": "d38f4875",
   "metadata": {},
   "outputs": [
    {
     "name": "stdout",
     "output_type": "stream",
     "text": [
      "2 occurs 1 times \n",
      "3 occurs 1 times \n",
      "4 occurs 1 times \n",
      "5 occurs 1 times \n",
      "34 occurs 2 times \n",
      "67 occurs 2 times \n",
      "11 occurs 2 times \n",
      "12 occurs 3 times \n",
      "45 occurs 2 times \n",
      "23 occurs 2 times \n",
      "89 occurs 1 times \n"
     ]
    }
   ],
   "source": [
    "s1.elemn_occ_list()"
   ]
  },
  {
   "cell_type": "code",
   "execution_count": 67,
   "id": "b7cc3f5c",
   "metadata": {},
   "outputs": [],
   "source": []
  },
  {
   "cell_type": "code",
   "execution_count": 68,
   "id": "e591a0d7",
   "metadata": {},
   "outputs": [
    {
     "data": {
      "text/plain": [
       "[2, 3, 4, 5, 11, 11, 12, 12, 12, 23, 23, 34, 34, 45, 45, []]"
      ]
     },
     "execution_count": 68,
     "metadata": {},
     "output_type": "execute_result"
    }
   ],
   "source": [
    "a"
   ]
  },
  {
   "cell_type": "code",
   "execution_count": 56,
   "id": "7773cdc7",
   "metadata": {},
   "outputs": [
    {
     "data": {
      "text/plain": [
       "[]"
      ]
     },
     "execution_count": 56,
     "metadata": {},
     "output_type": "execute_result"
    }
   ],
   "source": [
    "a[-1]"
   ]
  },
  {
   "cell_type": "code",
   "execution_count": 116,
   "id": "0dbe2154",
   "metadata": {},
   "outputs": [
    {
     "data": {
      "text/plain": [
       "[2,\n",
       " 3,\n",
       " 4,\n",
       " 5,\n",
       " 11,\n",
       " 11,\n",
       " 12,\n",
       " 12,\n",
       " 12,\n",
       " 23,\n",
       " 23,\n",
       " 34,\n",
       " 34,\n",
       " 45,\n",
       " 45,\n",
       " [23, 67, 89],\n",
       " 23,\n",
       " 67,\n",
       " 89,\n",
       " [],\n",
       " [],\n",
       " [],\n",
       " []]"
      ]
     },
     "execution_count": 116,
     "metadata": {},
     "output_type": "execute_result"
    }
   ],
   "source": [
    "a.append([])\n",
    "a"
   ]
  },
  {
   "cell_type": "code",
   "execution_count": 106,
   "id": "219e0305",
   "metadata": {},
   "outputs": [
    {
     "data": {
      "text/plain": [
       "[2,\n",
       " 3,\n",
       " 4,\n",
       " 5,\n",
       " 11,\n",
       " 11,\n",
       " 12,\n",
       " 12,\n",
       " 12,\n",
       " 23,\n",
       " 23,\n",
       " 34,\n",
       " 34,\n",
       " 45,\n",
       " 45,\n",
       " [23, 67, 89],\n",
       " 23,\n",
       " 67,\n",
       " 89,\n",
       " []]"
      ]
     },
     "execution_count": 106,
     "metadata": {},
     "output_type": "execute_result"
    }
   ],
   "source": [
    "a"
   ]
  },
  {
   "cell_type": "code",
   "execution_count": 86,
   "id": "30e949fc",
   "metadata": {},
   "outputs": [
    {
     "name": "stdout",
     "output_type": "stream",
     "text": [
      "[2, 3, 4, 5, 11, 11, 12, 12, 12, 23, 23, 34, 34, 45, 45, []]\n"
     ]
    }
   ],
   "source": [
    "\n",
    "i=0\n",
    "while (type(a[i])==list):\n",
    "    f=0\n",
    "    if type(a[i])==list:\n",
    "        if len(a[i])==0:\n",
    "            a.pop(i)\n",
    "            f=1\n",
    "    if f==0:\n",
    "        i+=1\n",
    "print(a)"
   ]
  },
  {
   "cell_type": "code",
   "execution_count": 99,
   "id": "d42551de",
   "metadata": {},
   "outputs": [],
   "source": [
    "for i in a:\n",
    "    if type(i)==list:\n",
    "        if len(i)==0:\n",
    "            a.remove(i)"
   ]
  },
  {
   "cell_type": "code",
   "execution_count": 117,
   "id": "29442724",
   "metadata": {},
   "outputs": [
    {
     "name": "stdout",
     "output_type": "stream",
     "text": [
      "[2, 3, 4, 5, 11, 11, 12, 12, 12, 23, 23, 34, 34, 45, 45, [23, 67, 89], 23, 67, 89]\n"
     ]
    }
   ],
   "source": [
    "\n"
   ]
  },
  {
   "cell_type": "code",
   "execution_count": null,
   "id": "59279da8",
   "metadata": {},
   "outputs": [],
   "source": []
  }
 ],
 "metadata": {
  "kernelspec": {
   "display_name": "Python 3",
   "language": "python",
   "name": "python3"
  },
  "language_info": {
   "codemirror_mode": {
    "name": "ipython",
    "version": 3
   },
   "file_extension": ".py",
   "mimetype": "text/x-python",
   "name": "python",
   "nbconvert_exporter": "python",
   "pygments_lexer": "ipython3",
   "version": "3.8.8"
  }
 },
 "nbformat": 4,
 "nbformat_minor": 5
}
