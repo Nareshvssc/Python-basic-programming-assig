{
 "cells": [
  {
   "cell_type": "code",
   "execution_count": 1,
   "metadata": {},
   "outputs": [],
   "source": [
    "#PBA_16\n",
    "import math\n",
    "import logging\n",
    "logging.basicConfig(filename=\"assignment16.log\",level=logging.INFO,format=(\"%(levelname)s%( message)s\"))"
   ]
  },
  {
   "cell_type": "markdown",
   "metadata": {},
   "source": [
    "Question1. Write a function that stutters a word as if someone is struggling to read it. The first two letters are repeated twice with an ellipsis ... and space after each, and then the word is pronounced with a question mark ?.\n",
    "Examples\n",
    "stutter(\"incredible\") ➞ \"in... in... incredible?\"\n",
    "\n",
    "stutter(\"enthusiastic\") ➞ \"en... en... enthusiastic?\"\n",
    "\n",
    "stutter(\"outstanding\") ➞ \"ou... ou... outstanding?\"\n",
    "\n",
    "Hint :- Assume all input is in lower case and at least two characters long.\n"
   ]
  },
  {
   "cell_type": "code",
   "execution_count": 2,
   "metadata": {},
   "outputs": [],
   "source": [
    "def stutter(word):\n",
    "   \n",
    "    try:\n",
    "        logging.info(\"stutter funcion running\")\n",
    "        temp = word[0]+word[1]+str(\"..\")+word[0]+word[1]+str(\"..\")\n",
    "        final = temp+word+str(\"?\")\n",
    "    except Exception as err:\n",
    "        logging.error(\"please enter a valid string \"+str(err))\n",
    "    else:\n",
    "        logging.info(\"runned successfully\")\n",
    "        print(final)\n"
   ]
  },
  {
   "cell_type": "markdown",
   "metadata": {},
   "source": [
    "Question 2.Create a function that takes an angle in radians and returns the corresponding angle in degrees rounded to one decimal place.\n",
    "Examples\n",
    "radians_to_degrees(1) ➞ 57.3\n",
    "\n",
    "radians_to_degrees(20) ➞ 1145.9\n",
    "\n",
    "radians_to_degrees(50) ➞ 2864.8\n"
   ]
  },
  {
   "cell_type": "code",
   "execution_count": 3,
   "metadata": {},
   "outputs": [],
   "source": [
    "def rad_to_degree(angle):\n",
    "    try:\n",
    "        logging.info(\"conversion for rad_to_degree running\")\n",
    "        \n",
    "        rad_angle = round(angle*(180/math.pi),1)\n",
    "    except Exception as err:\n",
    "        logging.error(\"Please pass a valid input\")\n",
    "    else:\n",
    "        logging.info(\"the value in degree is \"+str(rad_angle))"
   ]
  },
  {
   "cell_type": "markdown",
   "metadata": {},
   "source": [
    "Question 3. In this challenge, establish if a given integer num is a Curzon number. If 1 plus 2 elevated to num is exactly divisible by 1 plus 2 multiplied by num, then num is a Curzon number.\n",
    "Given a non-negative integer num, implement a function that returns True if num is a Curzon number, or False otherwise.\n",
    "Examples\n",
    "is_curzon(5) ➞ True\n",
    "# 2 ** 5 + 1 = 33\n",
    "# 2 * 5 + 1 = 11\n",
    "# 33 is a multiple of 11\n",
    "\n",
    "is_curzon(10) ➞ False\n",
    "# 2 ** 10 + 1 = 1025\n",
    "# 2 * 10 + 1 = 21\n",
    "# 1025 is not a multiple of 21\n",
    "\n",
    "is_curzon(14) ➞ True\n",
    "# 2 ** 14 + 1 = 16385\n",
    "# 2 * 14 + 1 = 29\n",
    "# 16385 is a multiple of 29\n"
   ]
  },
  {
   "cell_type": "code",
   "execution_count": 4,
   "metadata": {},
   "outputs": [],
   "source": [
    "def is_curzon(num):\n",
    "    \"\"\"returns True for a curzon number \"\"\"\n",
    "    try:\n",
    "        logging.info(\"function to check if its curzon number running\")\n",
    "        a = 1+math.pow(2,num)\n",
    "        b = 1+2*num\n",
    "        if a%b==0:\n",
    "            return True\n",
    "        else:\n",
    "            return False\n",
    "    except Exception as err:\n",
    "        logging.error(\"invalid input \"+str(err))   "
   ]
  },
  {
   "cell_type": "markdown",
   "metadata": {},
   "source": [
    "Question 5. Create a function that returns a base-2 (binary) representation of a base-10 (decimal) string number. To convert is simple: ((2) means base-2 and (10) means base-10) 010101001(2) = 1 + 8 + 32 + 128.\n",
    "Going from right to left, the value of the most right bit is 1, now from that every bit to the left will be x2 the value, value of an 8 bit binary numbers are (256, 128, 64, 32, 16, 8, 4, 2, 1).\n"
   ]
  },
  {
   "cell_type": "code",
   "execution_count": 5,
   "metadata": {},
   "outputs": [],
   "source": [
    "def binary(num):\n",
    "    \"\"\"return the binary(base2) of a decimal (base10) number\"\"\"\n",
    "    try:\n",
    "        binary=0\n",
    "        i = len(num)-1\n",
    "        j=0\n",
    "        while i>=0:\n",
    "            binary+=(int(num[j])*(2**i)) \n",
    "            j+=1\n",
    "            i-=1\n",
    "    except Exception as err:\n",
    "        logging.error(\"invalid input\"+str(err))\n",
    "    else:\n",
    "        logging.info(\"the binary number is \",(binary))"
   ]
  },
  {
   "cell_type": "markdown",
   "metadata": {},
   "source": [
    "Question 4.Given the side length x find the area of a hexagon."
   ]
  },
  {
   "cell_type": "code",
   "execution_count": 11,
   "metadata": {},
   "outputs": [],
   "source": [
    "def area_of_hexagon(s):\n",
    "    \"\"\"determines the area of hexagon of side s\"\"\"\n",
    "    try:\n",
    "        logging.info(\"area_of_hexagon calculator running\")\n",
    "        area = round((3*(3**0.5)*(s**2)/2),2)\n",
    "    except Exception as err:\n",
    "        logging.error(\"could not run due to input error \"+str(err))\n",
    "    else:\n",
    "        logging.info(\"the area is , \",area)"
   ]
  },
  {
   "cell_type": "code",
   "execution_count": null,
   "metadata": {},
   "outputs": [],
   "source": []
  },
  {
   "cell_type": "code",
   "execution_count": null,
   "metadata": {},
   "outputs": [],
   "source": []
  }
 ],
 "metadata": {
  "kernelspec": {
   "display_name": "Python 3",
   "language": "python",
   "name": "python3"
  },
  "language_info": {
   "codemirror_mode": {
    "name": "ipython",
    "version": 3
   },
   "file_extension": ".py",
   "mimetype": "text/x-python",
   "name": "python",
   "nbconvert_exporter": "python",
   "pygments_lexer": "ipython3",
   "version": "3.8.8"
  }
 },
 "nbformat": 4,
 "nbformat_minor": 2
}
