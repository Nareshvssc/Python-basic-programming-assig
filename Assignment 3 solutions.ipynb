{
 "cells": [
  {
   "cell_type": "code",
   "execution_count": null,
   "metadata": {},
   "outputs": [],
   "source": [
    "1.\tWrite a Python Program to Check if a Number is Positive, Negative or Zero?\n",
    "\n",
    "        "
   ]
  },
  {
   "cell_type": "code",
   "execution_count": 2,
   "metadata": {},
   "outputs": [],
   "source": [
    "def ques1(a):\n",
    "    \"\"\"Whether number is positive negative or zero\"\"\"\n",
    "    if a>0:\n",
    "        return \"no. is positive\"\n",
    "    elif a<0:\n",
    "        return \"no . is negative\"\n",
    "    else:\n",
    "        return \"no. is zero\""
   ]
  },
  {
   "cell_type": "code",
   "execution_count": null,
   "metadata": {},
   "outputs": [],
   "source": [
    "2.\tWrite a Python Program to Check if a Number is Odd or Even?\n"
   ]
  },
  {
   "cell_type": "code",
   "execution_count": 4,
   "metadata": {},
   "outputs": [],
   "source": [
    "def ques2(a):\n",
    "    \"\"\"checks whether no. is even or odd\"\"\"\n",
    "    if a%2 == 0:\n",
    "        return \"no. is even\"\n",
    "    else:\n",
    "        return \"no. is odd\""
   ]
  },
  {
   "cell_type": "code",
   "execution_count": null,
   "metadata": {},
   "outputs": [],
   "source": [
    "3.\tWrite a Python Program to Check Leap Year?\n"
   ]
  },
  {
   "cell_type": "code",
   "execution_count": 2,
   "metadata": {},
   "outputs": [],
   "source": [
    "def ques3(a):\n",
    "    \"\"\"checks whether the given year  is a leap year or not\"\"\"\n",
    "    if a%4 == 0:\n",
    "        return \"Its a leap year\"\n",
    "    elif a%400 == 0:\n",
    "        return \"its a leap year\"\n",
    "    else:\n",
    "        return \"its not a leap year\""
   ]
  },
  {
   "cell_type": "code",
   "execution_count": null,
   "metadata": {},
   "outputs": [],
   "source": [
    "4.\tWrite a Python Program to Check Prime Number?\n"
   ]
  },
  {
   "cell_type": "code",
   "execution_count": 32,
   "metadata": {},
   "outputs": [],
   "source": [
    "def ques4(a):\n",
    "    \"\"\"Checks whether no. is prime or not\"\"\"\n",
    "    if a ==2:\n",
    "        print(a,\" is a prime no.\")\n",
    "    else:\n",
    "        for i in range(2,a,1):\n",
    "            if a%i==0:\n",
    "                print(a, \" is not a prime no.\")\n",
    "                break\n",
    "        else:\n",
    "            print(a,\"is a prime no.\")\n",
    "            "
   ]
  },
  {
   "cell_type": "code",
   "execution_count": 38,
   "metadata": {},
   "outputs": [
    {
     "name": "stdout",
     "output_type": "stream",
     "text": [
      "3 is a prime no.\n"
     ]
    }
   ],
   "source": [
    "5.\tWrite a Python Program to Print all Prime Numbers in an Interval of 1-10000?"
   ]
  },
  {
   "cell_type": "code",
   "execution_count": 35,
   "metadata": {},
   "outputs": [],
   "source": [
    "def ques5():\n",
    "    \"\"\"This print all the prime no. between 1-10000\"\"\"\n",
    "    print(2,end=' ')\n",
    "    for i in range(3,100,1):\n",
    "        for j in range(2,i):\n",
    "            if i%j==0:\n",
    "                break\n",
    "        else:\n",
    "            print(i,end=' ')"
   ]
  },
  {
   "cell_type": "code",
   "execution_count": null,
   "metadata": {},
   "outputs": [],
   "source": []
  },
  {
   "cell_type": "code",
   "execution_count": 30,
   "metadata": {},
   "outputs": [
    {
     "data": {
      "text/plain": [
       "1"
      ]
     },
     "execution_count": 30,
     "metadata": {},
     "output_type": "execute_result"
    }
   ],
   "source": []
  },
  {
   "cell_type": "code",
   "execution_count": null,
   "metadata": {},
   "outputs": [],
   "source": []
  }
 ],
 "metadata": {
  "kernelspec": {
   "display_name": "Python 3",
   "language": "python",
   "name": "python3"
  },
  "language_info": {
   "codemirror_mode": {
    "name": "ipython",
    "version": 3
   },
   "file_extension": ".py",
   "mimetype": "text/x-python",
   "name": "python",
   "nbconvert_exporter": "python",
   "pygments_lexer": "ipython3",
   "version": "3.8.8"
  }
 },
 "nbformat": 4,
 "nbformat_minor": 2
}
